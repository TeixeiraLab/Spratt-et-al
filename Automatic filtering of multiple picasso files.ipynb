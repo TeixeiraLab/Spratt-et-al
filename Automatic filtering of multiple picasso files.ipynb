{
 "cells": [
  {
   "cell_type": "code",
   "execution_count": null,
   "metadata": {},
   "outputs": [],
   "source": [
    "#This code processes multiple picasso files to filter coordinates based on their parameters\n",
    "#File needed is the hdf5 file generated from picasso after the localization step"
   ]
  },
  {
   "cell_type": "code",
   "execution_count": 2,
   "metadata": {
    "id": "skSYo937aSjH"
   },
   "outputs": [],
   "source": [
    "import pandas as pd\n",
    "import numpy as np\n",
    "import h5py\n",
    "import seaborn as sns"
   ]
  },
  {
   "cell_type": "code",
   "execution_count": 4,
   "metadata": {},
   "outputs": [],
   "source": [
    "file_loc=list([f'./image{i}.hdf5' for i in range(1,2)])   \n",
    "result_loc=list([f'image_{i}' for i in range(1,2)])\n",
    "file_loc"
   ]
  },
  {
   "cell_type": "code",
   "execution_count": 6,
   "metadata": {},
   "outputs": [],
   "source": [
    "     def loop_function(file_name,result_name,threshold_sx_lower,threshold_sx_upper,threshold_sy_lower,threshold_sy_upper,upper_lpx,upper_lpy):\n",
    "    \n",
    "    #Reading hdf5 files from picasso\n",
    "    df_initial=pd.DataFrame(np.array(h5py.File(file_name)['locs']))\n",
    "    df_2=df_initial[[\"frame\",\"x\",\"y\",\"photons\",\"sx\",\"sy\",\"lpx\",\"lpy\",\"group\"]]\n",
    "\n",
    "    #Filtering sx and sy\n",
    "    df_filtered_sx=df_2[(df_2 ['sx'] > threshold_sx_lower) & (df_2 ['sx'] < threshold_sx_upper)]\n",
    "    df_filtered_sx_sy=df_filtered_sx[(df_filtered_sx ['sy'] > threshold_sy_lower) & (df_filtered_sx ['sy'] < threshold_sy_upper)]\n",
    "    fig_3=sns.displot(data=df_filtered_sx, x=\"sx\", kde=True)\n",
    "    fig_4=sns.displot(data=df_filtered_sx_sy, x=\"sy\", kde=True)\n",
    "    fig_3.savefig(f'./{result_name}_hist_sx.jpg')\n",
    "    fig_4.savefig(f'./{result_name}_hist_sy.jpg')\n",
    "    \n",
    "    #Filtering lpx and lpy\n",
    "    df_filtered_sx_sy_lpx=df_filtered_sx_sy[(df_filtered_sx_sy ['lpx'] < upper_lpx)]\n",
    "    df_filtered_sx_sy_lpx_lpy=df_filtered_sx_sy_lpx[(df_filtered_sx_sy_lpx ['lpy'] < upper_lpy)]\n",
    "    fig_5=sns.displot(data=df_filtered_sx_sy_lpx, x=\"lpx\", kde=True)\n",
    "    fig_6=sns.displot(data=df_filtered_sx_sy_lpx_lpy, x=\"lpy\", kde=True)\n",
    "    fig_5.savefig(f'./{result_name}_hist_lpx.jpg')\n",
    "    fig_6.savefig(f'./{result_name}_hist_lpy.jpg')\n",
    "    \n",
    "    #You can also add here other parameters of your choosing to filter (photons) similar to what is done before\n",
    "                                                               \n",
    "    #Save output\n",
    "    df_filtered_sx_sy_lpx_lpy.to_csv(f'{result_name}_filtered.csv',index=False)\n",
    "    return 0\n",
    "    \n",
    "#Loop to process multiple files\n",
    "#Values needed are as follows: threshold_sx_lower,threshold_sx_upper,threshold_sy_lower,threshold_sy_upper,upper_lpx,upper_lpy\n",
    "for i,j in zip(file_loc,result_loc):\n",
    "    loop_function(i,j,1.2,2.2,1.2,2.2,0.3,0.3)\n",
    "    "
   ]
  },
  {
   "cell_type": "code",
   "execution_count": null,
   "metadata": {},
   "outputs": [],
   "source": []
  },
  {
   "cell_type": "code",
   "execution_count": null,
   "metadata": {},
   "outputs": [],
   "source": []
  }
 ],
 "metadata": {
  "colab": {
   "provenance": []
  },
  "kernelspec": {
   "display_name": "Python 3 (ipykernel)",
   "language": "python",
   "name": "python3"
  },
  "language_info": {
   "codemirror_mode": {
    "name": "ipython",
    "version": 3
   },
   "file_extension": ".py",
   "mimetype": "text/x-python",
   "name": "python",
   "nbconvert_exporter": "python",
   "pygments_lexer": "ipython3",
   "version": "3.9.13"
  }
 },
 "nbformat": 4,
 "nbformat_minor": 1
}
